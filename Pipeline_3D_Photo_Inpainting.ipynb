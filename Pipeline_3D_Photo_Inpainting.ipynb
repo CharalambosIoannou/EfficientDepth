{
  "nbformat": 4,
  "nbformat_minor": 0,
  "metadata": {
    "colab": {
      "name": "Pipeline-3D-Photo-Inpainting.ipynb",
      "provenance": [],
      "collapsed_sections": [],
      "toc_visible": true
    },
    "kernelspec": {
      "name": "python3",
      "display_name": "Python 3"
    },
    "accelerator": "GPU"
  },
  "cells": [
    {
      "cell_type": "markdown",
      "metadata": {
        "id": "IY-s3ZpHBeAU"
      },
      "source": [
        "**[CVPR 2020] 3D Photography using Context-aware Layered Depth Inpainting**\n",
        "\n",
        "[project website](https://shihmengli.github.io/3D-Photo-Inpainting/)"
      ]
    },
    {
      "cell_type": "markdown",
      "metadata": {
        "id": "LPQ0EWxgvMIc"
      },
      "source": [
        "- **Prepare environment**\n"
      ]
    },
    {
      "cell_type": "code",
      "metadata": {
        "id": "5o-EIMeaghU0",
        "colab": {
          "base_uri": "https://localhost:8080/"
        },
        "outputId": "2c07887c-a92b-4021-900d-9294f2e03ae8"
      },
      "source": [
        "!pip3 install opencv-python==4.2.0.32\n",
        "!pip3 install vispy==0.6.4\n",
        "!pip3 install moviepy==1.0.2\n",
        "!pip3 install transforms3d==0.3.1\n",
        "!pip3 install networkx==2.3\n",
        "!sudo apt install sed"
      ],
      "execution_count": 1,
      "outputs": [
        {
          "output_type": "stream",
          "text": [
            "Collecting opencv-python==4.2.0.32\n",
            "\u001b[?25l  Downloading https://files.pythonhosted.org/packages/34/a3/403dbaef909fee9f9f6a8eaff51d44085a14e5bb1a1ff7257117d744986a/opencv_python-4.2.0.32-cp37-cp37m-manylinux1_x86_64.whl (28.2MB)\n",
            "\u001b[K     |████████████████████████████████| 28.2MB 107kB/s \n",
            "\u001b[?25hRequirement already satisfied: numpy>=1.14.5 in /usr/local/lib/python3.7/dist-packages (from opencv-python==4.2.0.32) (1.19.5)\n",
            "\u001b[31mERROR: albumentations 0.1.12 has requirement imgaug<0.2.7,>=0.2.5, but you'll have imgaug 0.2.9 which is incompatible.\u001b[0m\n",
            "Installing collected packages: opencv-python\n",
            "  Found existing installation: opencv-python 4.1.2.30\n",
            "    Uninstalling opencv-python-4.1.2.30:\n",
            "      Successfully uninstalled opencv-python-4.1.2.30\n",
            "Successfully installed opencv-python-4.2.0.32\n",
            "Collecting vispy==0.6.4\n",
            "\u001b[?25l  Downloading https://files.pythonhosted.org/packages/5f/7e/9e24a986e8fe2ee94588f806e1c4579c8c285e7e42b70189d79db4132e07/vispy-0.6.4-cp37-cp37m-manylinux2010_x86_64.whl (2.3MB)\n",
            "\u001b[K     |████████████████████████████████| 2.3MB 4.0MB/s \n",
            "\u001b[?25hRequirement already satisfied: numpy in /usr/local/lib/python3.7/dist-packages (from vispy==0.6.4) (1.19.5)\n",
            "Collecting freetype-py\n",
            "\u001b[?25l  Downloading https://files.pythonhosted.org/packages/40/b5/56751e13f8b4a42f52c1b85ecce1446f83245190d820b42748eb8574ae43/freetype_py-2.2.0-py3-none-manylinux1_x86_64.whl (890kB)\n",
            "\u001b[K     |████████████████████████████████| 890kB 18.8MB/s \n",
            "\u001b[?25hInstalling collected packages: freetype-py, vispy\n",
            "Successfully installed freetype-py-2.2.0 vispy-0.6.4\n",
            "Collecting moviepy==1.0.2\n",
            "\u001b[?25l  Downloading https://files.pythonhosted.org/packages/71/64/e7f0876716d5c35612bf8e9e49299d0f491285f10f36cbb481556ab0062b/moviepy-1.0.2.tar.gz (7.8MB)\n",
            "\u001b[K     |████████████████████████████████| 7.9MB 3.7MB/s \n",
            "\u001b[?25hRequirement already satisfied: decorator<5.0,>=4.0.2 in /usr/local/lib/python3.7/dist-packages (from moviepy==1.0.2) (4.4.2)\n",
            "Requirement already satisfied: tqdm<5.0,>=4.11.2 in /usr/local/lib/python3.7/dist-packages (from moviepy==1.0.2) (4.41.1)\n",
            "Requirement already satisfied: requests<3.0,>=2.8.1 in /usr/local/lib/python3.7/dist-packages (from moviepy==1.0.2) (2.23.0)\n",
            "Collecting proglog<=1.0.0\n",
            "  Downloading https://files.pythonhosted.org/packages/fe/ab/4cb19b578e1364c0b2d6efd6521a8b4b4e5c4ae6528041d31a2a951dd991/proglog-0.1.9.tar.gz\n",
            "Requirement already satisfied: numpy>=1.17.3 in /usr/local/lib/python3.7/dist-packages (from moviepy==1.0.2) (1.19.5)\n",
            "Collecting imageio<3.0,>=2.5\n",
            "\u001b[?25l  Downloading https://files.pythonhosted.org/packages/6e/57/5d899fae74c1752f52869b613a8210a2480e1a69688e65df6cb26117d45d/imageio-2.9.0-py3-none-any.whl (3.3MB)\n",
            "\u001b[K     |████████████████████████████████| 3.3MB 37.1MB/s \n",
            "\u001b[?25hCollecting imageio_ffmpeg>=0.2.0\n",
            "\u001b[?25l  Downloading https://files.pythonhosted.org/packages/89/0f/4b49476d185a273163fa648eaf1e7d4190661d1bbf37ec2975b84df9de02/imageio_ffmpeg-0.4.3-py3-none-manylinux2010_x86_64.whl (26.9MB)\n",
            "\u001b[K     |████████████████████████████████| 26.9MB 118kB/s \n",
            "\u001b[?25hRequirement already satisfied: certifi>=2017.4.17 in /usr/local/lib/python3.7/dist-packages (from requests<3.0,>=2.8.1->moviepy==1.0.2) (2020.12.5)\n",
            "Requirement already satisfied: idna<3,>=2.5 in /usr/local/lib/python3.7/dist-packages (from requests<3.0,>=2.8.1->moviepy==1.0.2) (2.10)\n",
            "Requirement already satisfied: urllib3!=1.25.0,!=1.25.1,<1.26,>=1.21.1 in /usr/local/lib/python3.7/dist-packages (from requests<3.0,>=2.8.1->moviepy==1.0.2) (1.24.3)\n",
            "Requirement already satisfied: chardet<4,>=3.0.2 in /usr/local/lib/python3.7/dist-packages (from requests<3.0,>=2.8.1->moviepy==1.0.2) (3.0.4)\n",
            "Requirement already satisfied: pillow in /usr/local/lib/python3.7/dist-packages (from imageio<3.0,>=2.5->moviepy==1.0.2) (7.0.0)\n",
            "Building wheels for collected packages: moviepy, proglog\n",
            "  Building wheel for moviepy (setup.py) ... \u001b[?25l\u001b[?25hdone\n",
            "  Created wheel for moviepy: filename=moviepy-1.0.2-cp37-none-any.whl size=110730 sha256=83d77fce3e46c94da42867cc48ee290e4b1f113303e2afb98661bf44bd1e585c\n",
            "  Stored in directory: /root/.cache/pip/wheels/20/49/a9/770a9a22e7a020d796ab3784d2dc4839e38450a1ac87e6106f\n",
            "  Building wheel for proglog (setup.py) ... \u001b[?25l\u001b[?25hdone\n",
            "  Created wheel for proglog: filename=proglog-0.1.9-cp37-none-any.whl size=6148 sha256=775c1b25c1d18a01ad0cf8a8d6240bbcff173dc089cbba65066c8e2d96c93f26\n",
            "  Stored in directory: /root/.cache/pip/wheels/65/56/60/1d0306a8d90b188af393c1812ddb502a8821b70917f82dcc00\n",
            "Successfully built moviepy proglog\n",
            "\u001b[31mERROR: albumentations 0.1.12 has requirement imgaug<0.2.7,>=0.2.5, but you'll have imgaug 0.2.9 which is incompatible.\u001b[0m\n",
            "Installing collected packages: proglog, imageio, imageio-ffmpeg, moviepy\n",
            "  Found existing installation: imageio 2.4.1\n",
            "    Uninstalling imageio-2.4.1:\n",
            "      Successfully uninstalled imageio-2.4.1\n",
            "  Found existing installation: moviepy 0.2.3.5\n",
            "    Uninstalling moviepy-0.2.3.5:\n",
            "      Successfully uninstalled moviepy-0.2.3.5\n",
            "Successfully installed imageio-2.9.0 imageio-ffmpeg-0.4.3 moviepy-1.0.2 proglog-0.1.9\n",
            "Collecting transforms3d==0.3.1\n",
            "\u001b[?25l  Downloading https://files.pythonhosted.org/packages/b5/f7/e85809168a548a854d7c1331560c27b4f5381698d29c12e57759192b2bc1/transforms3d-0.3.1.tar.gz (62kB)\n",
            "\u001b[K     |████████████████████████████████| 71kB 2.5MB/s \n",
            "\u001b[?25hBuilding wheels for collected packages: transforms3d\n",
            "  Building wheel for transforms3d (setup.py) ... \u001b[?25l\u001b[?25hdone\n",
            "  Created wheel for transforms3d: filename=transforms3d-0.3.1-cp37-none-any.whl size=59374 sha256=c501e19b9c4f6ac836c995752bbada6ca8c0ca01f4b8f3c4d9caacd78a9afc73\n",
            "  Stored in directory: /root/.cache/pip/wheels/3d/3c/84/28d36677f3c760c048bd02b5a547ea0c4027770cc9cdb9af1e\n",
            "Successfully built transforms3d\n",
            "Installing collected packages: transforms3d\n",
            "Successfully installed transforms3d-0.3.1\n",
            "Collecting networkx==2.3\n",
            "\u001b[?25l  Downloading https://files.pythonhosted.org/packages/85/08/f20aef11d4c343b557e5de6b9548761811eb16e438cee3d32b1c66c8566b/networkx-2.3.zip (1.7MB)\n",
            "\u001b[K     |████████████████████████████████| 1.8MB 4.1MB/s \n",
            "\u001b[?25hRequirement already satisfied: decorator>=4.3.0 in /usr/local/lib/python3.7/dist-packages (from networkx==2.3) (4.4.2)\n",
            "Building wheels for collected packages: networkx\n",
            "  Building wheel for networkx (setup.py) ... \u001b[?25l\u001b[?25hdone\n",
            "  Created wheel for networkx: filename=networkx-2.3-py2.py3-none-any.whl size=1556408 sha256=66af787da41ed4b477291eaf48b92e5e957b22463f2ef8e47f0bff8f1e648f9d\n",
            "  Stored in directory: /root/.cache/pip/wheels/de/63/64/3699be2a9d0ccdb37c7f16329acf3863fd76eda58c39c737af\n",
            "Successfully built networkx\n",
            "\u001b[31mERROR: albumentations 0.1.12 has requirement imgaug<0.2.7,>=0.2.5, but you'll have imgaug 0.2.9 which is incompatible.\u001b[0m\n",
            "Installing collected packages: networkx\n",
            "  Found existing installation: networkx 2.5\n",
            "    Uninstalling networkx-2.5:\n",
            "      Successfully uninstalled networkx-2.5\n",
            "Successfully installed networkx-2.3\n",
            "Reading package lists... Done\n",
            "Building dependency tree       \n",
            "Reading state information... Done\n",
            "sed is already the newest version (4.4-2).\n",
            "0 upgraded, 0 newly installed, 0 to remove and 30 not upgraded.\n"
          ],
          "name": "stdout"
        }
      ]
    },
    {
      "cell_type": "markdown",
      "metadata": {
        "id": "c-g7AeLMvY0R"
      },
      "source": [
        "- **Download script and pretrained model**\n"
      ]
    },
    {
      "cell_type": "code",
      "metadata": {
        "id": "cOFIBkWrBlNM",
        "colab": {
          "base_uri": "https://localhost:8080/"
        },
        "outputId": "fe5c812f-5287-49a6-865d-ceb82ba3b22d"
      },
      "source": [
        "%cd /content/\n",
        "!git clone https://github.com/vt-vl-lab/3d-photo-inpainting.git\n",
        "%cd 3d-photo-inpainting\n",
        "!sh download.sh"
      ],
      "execution_count": 2,
      "outputs": [
        {
          "output_type": "stream",
          "text": [
            "/content\n",
            "Cloning into '3d-photo-inpainting'...\n",
            "remote: Enumerating objects: 350, done.\u001b[K\n",
            "remote: Total 350 (delta 0), reused 0 (delta 0), pack-reused 350\u001b[K\n",
            "Receiving objects: 100% (350/350), 130.13 MiB | 26.19 MiB/s, done.\n",
            "Resolving deltas: 100% (192/192), done.\n",
            "/content/3d-photo-inpainting\n",
            "downloading from filebox ...\n",
            "--2021-03-25 16:08:37--  https://filebox.ece.vt.edu/~jbhuang/project/3DPhoto/model/color-model.pth\n",
            "Resolving filebox.ece.vt.edu (filebox.ece.vt.edu)... 128.173.88.43\n",
            "Connecting to filebox.ece.vt.edu (filebox.ece.vt.edu)|128.173.88.43|:443... connected.\n",
            "HTTP request sent, awaiting response... 200 OK\n",
            "Length: 206331633 (197M)\n",
            "Saving to: ‘color-model.pth’\n",
            "\n",
            "color-model.pth     100%[===================>] 196.77M  14.9MB/s    in 17s     \n",
            "\n",
            "2021-03-25 16:08:55 (11.6 MB/s) - ‘color-model.pth’ saved [206331633/206331633]\n",
            "\n",
            "--2021-03-25 16:08:55--  https://filebox.ece.vt.edu/~jbhuang/project/3DPhoto/model/depth-model.pth\n",
            "Resolving filebox.ece.vt.edu (filebox.ece.vt.edu)... 128.173.88.43\n",
            "Connecting to filebox.ece.vt.edu (filebox.ece.vt.edu)|128.173.88.43|:443... connected.\n",
            "HTTP request sent, awaiting response... 200 OK\n",
            "Length: 206272258 (197M)\n",
            "Saving to: ‘depth-model.pth’\n",
            "\n",
            "depth-model.pth     100%[===================>] 196.72M  12.9MB/s    in 26s     \n",
            "\n",
            "2021-03-25 16:09:22 (7.45 MB/s) - ‘depth-model.pth’ saved [206272258/206272258]\n",
            "\n",
            "--2021-03-25 16:09:22--  https://filebox.ece.vt.edu/~jbhuang/project/3DPhoto/model/edge-model.pth\n",
            "Resolving filebox.ece.vt.edu (filebox.ece.vt.edu)... 128.173.88.43\n",
            "Connecting to filebox.ece.vt.edu (filebox.ece.vt.edu)|128.173.88.43|:443... connected.\n",
            "HTTP request sent, awaiting response... 200 OK\n",
            "Length: 45974122 (44M)\n",
            "Saving to: ‘edge-model.pth’\n",
            "\n",
            "edge-model.pth      100%[===================>]  43.84M  5.80MB/s    in 14s     \n",
            "\n",
            "2021-03-25 16:09:37 (3.09 MB/s) - ‘edge-model.pth’ saved [45974122/45974122]\n",
            "\n",
            "--2021-03-25 16:09:37--  https://filebox.ece.vt.edu/~jbhuang/project/3DPhoto/model/model.pt\n",
            "Resolving filebox.ece.vt.edu (filebox.ece.vt.edu)... 128.173.88.43\n",
            "Connecting to filebox.ece.vt.edu (filebox.ece.vt.edu)|128.173.88.43|:443... connected.\n",
            "HTTP request sent, awaiting response... 200 OK\n",
            "Length: 149751722 (143M)\n",
            "Saving to: ‘model.pt’\n",
            "\n",
            "model.pt            100%[===================>] 142.81M  15.3MB/s    in 14s     \n",
            "\n",
            "2021-03-25 16:09:52 (10.5 MB/s) - ‘model.pt’ saved [149751722/149751722]\n",
            "\n"
          ],
          "name": "stdout"
        }
      ]
    },
    {
      "cell_type": "markdown",
      "metadata": {
        "id": "D_Fg_aMeDnmd"
      },
      "source": [
        "- **Switch off off-screen rendering**"
      ]
    },
    {
      "cell_type": "code",
      "metadata": {
        "id": "S9TmdOBRDXcV"
      },
      "source": [
        "!sed -i 's/offscreen_rendering: True/offscreen_rendering: False/g' argument.yml"
      ],
      "execution_count": 3,
      "outputs": []
    },
    {
      "cell_type": "markdown",
      "metadata": {
        "id": "XJzKbMi3ODtF"
      },
      "source": [
        "Change argument.yml: require_midas: True to require_midas: False"
      ]
    },
    {
      "cell_type": "markdown",
      "metadata": {
        "id": "cCN8L7GiDpZA"
      },
      "source": [
        "- **Please upload `.jpg` files to `/content/3d-photo-inpainting-master/image/`**\n",
        "  - You can run this step multiple times to upload multiple `.jpg` files."
      ]
    },
    {
      "cell_type": "code",
      "metadata": {
        "id": "n-Kl6fo1oows",
        "colab": {
          "resources": {
            "http://localhost:8080/nbextensions/google.colab/files.js": {
              "data": "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",
              "ok": true,
              "headers": [
                [
                  "content-type",
                  "application/javascript"
                ]
              ],
              "status": 200,
              "status_text": "OK"
            }
          },
          "base_uri": "https://localhost:8080/",
          "height": 74
        },
        "outputId": "b49642e4-22d3-42b6-9bf3-274d675a121c"
      },
      "source": [
        "%cd image\n",
        "from google.colab import files\n",
        "uploaded = files.upload()\n",
        "for fn in uploaded.keys():\n",
        "  print('User uploaded file \"{name}\" with length {length} bytes'.format(\n",
        "      name=fn, length=len(uploaded[fn])))\n",
        "%cd .."
      ],
      "execution_count": 4,
      "outputs": [
        {
          "output_type": "stream",
          "text": [
            "/content/3d-photo-inpainting/image\n"
          ],
          "name": "stdout"
        },
        {
          "output_type": "display_data",
          "data": {
            "text/html": [
              "\n",
              "     <input type=\"file\" id=\"files-d1b6edc8-1d7d-415e-8a3d-9e632eb4a9ee\" name=\"files[]\" multiple disabled\n",
              "        style=\"border:none\" />\n",
              "     <output id=\"result-d1b6edc8-1d7d-415e-8a3d-9e632eb4a9ee\">\n",
              "      Upload widget is only available when the cell has been executed in the\n",
              "      current browser session. Please rerun this cell to enable.\n",
              "      </output>\n",
              "      <script src=\"/nbextensions/google.colab/files.js\"></script> "
            ],
            "text/plain": [
              "<IPython.core.display.HTML object>"
            ]
          },
          "metadata": {
            "tags": []
          }
        },
        {
          "output_type": "stream",
          "text": [
            "/content/3d-photo-inpainting\n"
          ],
          "name": "stdout"
        }
      ]
    },
    {
      "cell_type": "code",
      "metadata": {
        "colab": {
          "base_uri": "https://localhost:8080/"
        },
        "id": "0sExX8x6IKtP",
        "outputId": "f6398c15-8fb4-4a83-848a-bebfdb6d8416"
      },
      "source": [
        "from google.colab import drive\n",
        "drive.mount('/content/drive')"
      ],
      "execution_count": 4,
      "outputs": [
        {
          "output_type": "stream",
          "text": [
            "Mounted at /content/drive\n"
          ],
          "name": "stdout"
        }
      ]
    },
    {
      "cell_type": "code",
      "metadata": {
        "id": "-u2nGVVaH1vm"
      },
      "source": [
        "import torch.nn as nn\n",
        "class MobileNetSkipConcat(nn.Module):\n",
        "    def __init__(self, output_size, pretrained=True):\n",
        "\n",
        "        super(MobileNetSkipConcat, self).__init__()\n",
        "        self.output_size = output_size\n",
        "        mobilenet = MobileNet1()\n",
        "        if pretrained:\n",
        "            pretrained_path = os.path.join('imagenet', 'results', 'imagenet.arch=mobilenet.lr=0.1.bs=256', 'model_best.pth.tar')\n",
        "            checkpoint = torch.load(pretrained_path)\n",
        "            state_dict = checkpoint['state_dict']\n",
        "\n",
        "            from collections import OrderedDict\n",
        "            new_state_dict = OrderedDict()\n",
        "            for k, v in state_dict.items():\n",
        "                name = k[7:] # remove `module.`\n",
        "                new_state_dict[name] = v\n",
        "            mobilenet.load_state_dict(new_state_dict)\n",
        "        else:\n",
        "            mobilenet.apply(weights_init)\n",
        "\n",
        "        for i in range(14):\n",
        "            setattr( self, 'conv{}'.format(i), mobilenet.model[i])\n",
        "\n",
        "        kernel_size = 5\n",
        "        # self.decode_conv1 = conv(1024, 512, kernel_size)\n",
        "        # self.decode_conv2 = conv(512, 256, kernel_size)\n",
        "        # self.decode_conv3 = conv(256, 128, kernel_size)\n",
        "        # self.decode_conv4 = conv(128, 64, kernel_size)\n",
        "        # self.decode_conv5 = conv(64, 32, kernel_size)\n",
        "        self.decode_conv1 = nn.Sequential(\n",
        "            depthwise(1024, kernel_size),\n",
        "            pointwise(1024, 512))\n",
        "        self.decode_conv2 = nn.Sequential(\n",
        "            depthwise(512, kernel_size),\n",
        "            pointwise(512, 256))\n",
        "        self.decode_conv3 = nn.Sequential(\n",
        "            depthwise(512, kernel_size),\n",
        "            pointwise(512, 128))\n",
        "        self.decode_conv4 = nn.Sequential(\n",
        "            depthwise(256, kernel_size),\n",
        "            pointwise(256, 64))\n",
        "        self.decode_conv5 = nn.Sequential(\n",
        "            depthwise(128, kernel_size),\n",
        "            pointwise(128, 32))\n",
        "        self.decode_conv6 = pointwise(32, 1)\n",
        "        weights_init(self.decode_conv1)\n",
        "        weights_init(self.decode_conv2)\n",
        "        weights_init(self.decode_conv3)\n",
        "        weights_init(self.decode_conv4)\n",
        "        weights_init(self.decode_conv5)\n",
        "        weights_init(self.decode_conv6)\n",
        "\n",
        "    def forward(self, x):\n",
        "        # skip connections: dec4: enc1\n",
        "        # dec 3: enc2 or enc3\n",
        "        # dec 2: enc4 or enc5\n",
        "        for i in range(14):\n",
        "            layer = getattr(self, 'conv{}'.format(i))\n",
        "            x = layer(x)\n",
        "            # print(\"{}: {}\".format(i, x.size()))\n",
        "            if i==1:\n",
        "                x1 = x\n",
        "            elif i==3:\n",
        "                x2 = x\n",
        "            elif i==5:\n",
        "                x3 = x\n",
        "        for i in range(1,6):\n",
        "            layer = getattr(self, 'decode_conv{}'.format(i))\n",
        "            # print(\"{}a: {}\".format(i, x.size()))\n",
        "            x = layer(x)\n",
        "            # print(\"{}b: {}\".format(i, x.size()))\n",
        "            x = F.interpolate(x, scale_factor=2, mode='nearest')\n",
        "            if i==4:\n",
        "                x = torch.cat((x, x1), 1)\n",
        "            elif i==3:\n",
        "                x = torch.cat((x, x2), 1)\n",
        "            elif i==2:\n",
        "                x = torch.cat((x, x3), 1)\n",
        "            # print(\"{}c: {}\".format(i, x.size()))\n",
        "        x = self.decode_conv6(x)\n",
        "        # print('END', x.size())\n",
        "        return x\n",
        "\n",
        "class Result(object):\n",
        "    def __init__(self):\n",
        "        self.irmse, self.imae = 0, 0\n",
        "        self.mse, self.rmse, self.mae = 0, 0, 0\n",
        "        self.absrel, self.lg10 = 0, 0\n",
        "        self.delta1, self.delta2, self.delta3 = 0, 0, 0\n",
        "        self.data_time, self.gpu_time = 0, 0\n",
        "\n",
        "    def set_to_worst(self):\n",
        "        self.irmse, self.imae = np.inf, np.inf\n",
        "        self.mse, self.rmse, self.mae = np.inf, np.inf, np.inf\n",
        "        self.absrel, self.lg10 = np.inf, np.inf\n",
        "        self.delta1, self.delta2, self.delta3 = 0, 0, 0\n",
        "        self.data_time, self.gpu_time = 0, 0\n",
        "\n",
        "    def update(self, irmse, imae, mse, rmse, mae, absrel, lg10, delta1, delta2, delta3, gpu_time, data_time):\n",
        "        self.irmse, self.imae = irmse, imae\n",
        "        self.mse, self.rmse, self.mae = mse, rmse, mae\n",
        "        self.absrel, self.lg10 = absrel, lg10\n",
        "        self.delta1, self.delta2, self.delta3 = delta1, delta2, delta3\n",
        "        self.data_time, self.gpu_time = data_time, gpu_time\n",
        "\n",
        "    def evaluate(self, output, target):\n",
        "        valid_mask = ((target>0) + (output>0)) > 0\n",
        "\n",
        "        output = 1e3 * output[valid_mask]\n",
        "        target = 1e3 * target[valid_mask]\n",
        "        abs_diff = (output - target).abs()\n",
        "\n",
        "        self.mse = float((torch.pow(abs_diff, 2)).mean())\n",
        "        self.rmse = math.sqrt(self.mse)\n",
        "        self.mae = float(abs_diff.mean())\n",
        "        self.lg10 = float((log10(output) - log10(target)).abs().mean())\n",
        "        self.absrel = float((abs_diff / target).mean())\n",
        "\n",
        "        maxRatio = torch.max(output / target, target / output)\n",
        "        self.delta1 = float((maxRatio < 1.25).float().mean())\n",
        "        self.delta2 = float((maxRatio < 1.25 ** 2).float().mean())\n",
        "        self.delta3 = float((maxRatio < 1.25 ** 3).float().mean())\n",
        "        self.data_time = 0\n",
        "        self.gpu_time = 0\n",
        "\n",
        "        inv_output = 1 / output\n",
        "        inv_target = 1 / target\n",
        "        abs_inv_diff = (inv_output - inv_target).abs()\n",
        "        self.irmse = math.sqrt((torch.pow(abs_inv_diff, 2)).mean())\n",
        "        self.imae = float(abs_inv_diff.mean())\n",
        "\n"
      ],
      "execution_count": 5,
      "outputs": []
    },
    {
      "cell_type": "markdown",
      "metadata": {
        "id": "GnUKh-96MzPa"
      },
      "source": [
        "Loads Model"
      ]
    },
    {
      "cell_type": "code",
      "metadata": {
        "id": "n0F4X7nFH2EU"
      },
      "source": [
        "import torch\n",
        "checkpoint = torch.load(\"/content/drive/MyDrive/results/Dataset=nyudepthv2 -- Network=mobilenet -- Loss=BerHu -- lr=0.01 -- bs=8/model_best.pth.tar\")\n",
        "model = checkpoint['model']"
      ],
      "execution_count": 6,
      "outputs": []
    },
    {
      "cell_type": "markdown",
      "metadata": {
        "id": "awdoBhwFM1zl"
      },
      "source": [
        "Produce Prediction"
      ]
    },
    {
      "cell_type": "code",
      "metadata": {
        "colab": {
          "base_uri": "https://localhost:8080/"
        },
        "id": "0vlwbM65IPBH",
        "outputId": "2ba8333a-9cca-490d-9f82-ce8893dd54ef"
      },
      "source": [
        "from PIL import Image\n",
        "from torchvision.transforms import ToTensor\n",
        "from torch.autograd import Variable\n",
        "import torch.nn.functional as F\n",
        "import matplotlib.pyplot as plt\n",
        "\n",
        "img_path=\"/content/3d-photo-inpainting/image/ReDWeb_Sample.jpg\"\n",
        "image = Image.open(img_path)\n",
        "image = ToTensor()(image).unsqueeze(0) # unsqueeze to add artificial first dimension\n",
        "image = Variable(image)\n",
        "image = image.cuda()\n",
        "print(image.shape)\n",
        "\n",
        "pred = model(image.to(dtype=torch.float))\n",
        "pred_c = pred.squeeze(0).squeeze(0).cpu().detach().numpy()"
      ],
      "execution_count": 15,
      "outputs": [
        {
          "output_type": "stream",
          "text": [
            "torch.Size([1, 3, 224, 224])\n"
          ],
          "name": "stdout"
        }
      ]
    },
    {
      "cell_type": "code",
      "metadata": {
        "colab": {
          "base_uri": "https://localhost:8080/",
          "height": 287
        },
        "id": "Ua8wExK0IcMW",
        "outputId": "6b2f71b8-61bc-433a-a393-da95e603e537"
      },
      "source": [
        "plt.imshow(pred_c)"
      ],
      "execution_count": 16,
      "outputs": [
        {
          "output_type": "execute_result",
          "data": {
            "text/plain": [
              "<matplotlib.image.AxesImage at 0x7ff28464bcd0>"
            ]
          },
          "metadata": {
            "tags": []
          },
          "execution_count": 16
        },
        {
          "output_type": "display_data",
          "data": {
            "image/png": "[encoded data removed]",
            "text/plain": [
              "<Figure size 432x288 with 1 Axes>"
            ]
          },
          "metadata": {
            "tags": [],
            "needs_background": "light"
          }
        }
      ]
    },
    {
      "cell_type": "markdown",
      "metadata": {
        "id": "vtVfYHCINALX"
      },
      "source": [
        "Save depth as npy and png format"
      ]
    },
    {
      "cell_type": "code",
      "metadata": {
        "colab": {
          "base_uri": "https://localhost:8080/",
          "height": 35
        },
        "id": "Z0z1JlePKVZ7",
        "outputId": "38d67c8c-3091-4974-f5d6-f75500f5b042"
      },
      "source": [
        "import numpy as np\n",
        "np.save(\"/content/3d-photo-inpainting/depth/ReDWeb_Sample.npy\",pred_c)\n",
        "plt.savefig(\"/content/3d-photo-inpainting/depth/ReDWeb_Sample.png\")"
      ],
      "execution_count": 17,
      "outputs": [
        {
          "output_type": "display_data",
          "data": {
            "text/plain": [
              "<Figure size 432x288 with 0 Axes>"
            ]
          },
          "metadata": {
            "tags": []
          }
        }
      ]
    },
    {
      "cell_type": "markdown",
      "metadata": {
        "id": "U6LV9lm2LcCI"
      },
      "source": [
        "- **Execute the 3D Photo Inpainting**\n",
        "  - Note: The 3D photo generation process usually takes about 2-3 minutes or more depending on the available computing resources."
      ]
    },
    {
      "cell_type": "code",
      "metadata": {
        "colab": {
          "base_uri": "https://localhost:8080/"
        },
        "id": "DoqjT7dkKuyO",
        "outputId": "73f1dc54-f0ed-4362-b09b-25b8ae20a2e4"
      },
      "source": [
        "!python main.py --config argument.yml"
      ],
      "execution_count": 18,
      "outputs": [
        {
          "output_type": "stream",
          "text": [
            "running on device 0\n",
            "\r  0% 0/1 [00:00<?, ?it/s]Current Source ==>  ReDWeb_Sample\n",
            "Running depth extraction at 1616689049.1634347\n",
            "Start Running 3D_Photo ...\n",
            "Loading edge model at 1616689061.2317262\n",
            "Loading depth model at 1616689063.5167317\n",
            "Loading rgb model at 1616689064.4793072\n",
            "Writing depth ply (and basically doing everything) at 1616689065.4013197\n",
            "Writing mesh file mesh/ReDWeb_Sample.ply ...\n",
            "Making video at 1616689246.0316343\n",
            "fov: 53.13010235415598\n",
            "Moviepy - Building video video/ReDWeb_Sample_dolly-zoom-in.mp4.\n",
            "Moviepy - Writing video video/ReDWeb_Sample_dolly-zoom-in.mp4\n",
            "\n",
            "  0% 0/1 [03:59<?, ?it/s]\n",
            "t:   0% 0/241 [00:00<?, ?it/s, now=None]\u001b[A\n",
            "t:   1% 2/241 [00:00<00:15, 15.59it/s, now=None]\u001b[A\n",
            "t:   1% 3/241 [00:00<00:20, 11.79it/s, now=None]\u001b[A\n",
            "t:   6% 14/241 [00:00<00:14, 16.10it/s, now=None]\u001b[A\n",
            "t:  10% 25/241 [00:00<00:10, 21.55it/s, now=None]\u001b[A\n",
            "t:  15% 36/241 [00:00<00:07, 28.22it/s, now=None]\u001b[A\n",
            "t:  19% 46/241 [00:00<00:05, 35.88it/s, now=None]\u001b[A\n",
            "t:  22% 54/241 [00:01<00:06, 28.02it/s, now=None]\u001b[A\n",
            "t:  25% 61/241 [00:01<00:06, 28.06it/s, now=None]\u001b[A\n",
            "t:  28% 67/241 [00:01<00:06, 26.11it/s, now=None]\u001b[A\n",
            "t:  30% 72/241 [00:01<00:06, 24.81it/s, now=None]\u001b[A\n",
            "t:  32% 76/241 [00:02<00:07, 23.19it/s, now=None]\u001b[A\n",
            "t:  33% 80/241 [00:02<00:07, 22.76it/s, now=None]\u001b[A\n",
            "t:  34% 83/241 [00:02<00:06, 22.89it/s, now=None]\u001b[A\n",
            "t:  36% 86/241 [00:02<00:07, 20.56it/s, now=None]\u001b[A\n",
            "t:  37% 89/241 [00:02<00:07, 19.40it/s, now=None]\u001b[A\n",
            "t:  38% 92/241 [00:02<00:07, 20.60it/s, now=None]\u001b[A\n",
            "t:  39% 95/241 [00:02<00:06, 21.86it/s, now=None]\u001b[A\n",
            "t:  41% 98/241 [00:03<00:07, 19.73it/s, now=None]\u001b[A\n",
            "t:  42% 101/241 [00:03<00:07, 19.92it/s, now=None]\u001b[A\n",
            "t:  44% 105/241 [00:03<00:06, 20.09it/s, now=None]\u001b[A\n",
            "t:  45% 108/241 [00:03<00:06, 20.45it/s, now=None]\u001b[A\n",
            "t:  46% 111/241 [00:03<00:06, 20.64it/s, now=None]\u001b[A\n",
            "t:  47% 114/241 [00:03<00:06, 19.79it/s, now=None]\u001b[A\n",
            "t:  49% 117/241 [00:04<00:06, 19.51it/s, now=None]\u001b[A\n",
            "t:  50% 120/241 [00:04<00:05, 21.46it/s, now=None]\u001b[A\n",
            "t:  51% 123/241 [00:04<00:05, 21.80it/s, now=None]\u001b[A\n",
            "t:  52% 126/241 [00:04<00:05, 21.05it/s, now=None]\u001b[A\n",
            "t:  54% 129/241 [00:04<00:05, 20.53it/s, now=None]\u001b[A\n",
            "t:  55% 133/241 [00:04<00:05, 20.20it/s, now=None]\u001b[A\n",
            "t:  57% 137/241 [00:05<00:05, 20.68it/s, now=None]\u001b[A\n",
            "t:  59% 141/241 [00:05<00:04, 20.66it/s, now=None]\u001b[A\n",
            "t:  60% 145/241 [00:05<00:04, 20.74it/s, now=None]\u001b[A\n",
            "t:  61% 148/241 [00:05<00:04, 22.84it/s, now=None]\u001b[A\n",
            "t:  63% 151/241 [00:05<00:04, 21.86it/s, now=None]\u001b[A\n",
            "t:  64% 154/241 [00:05<00:04, 21.08it/s, now=None]\u001b[A\n",
            "t:  65% 157/241 [00:05<00:04, 20.95it/s, now=None]\u001b[A\n",
            "t:  67% 161/241 [00:06<00:03, 20.58it/s, now=None]\u001b[A\n",
            "t:  68% 165/241 [00:06<00:03, 22.49it/s, now=None]\u001b[A\n",
            "t:  70% 169/241 [00:06<00:02, 25.49it/s, now=None]\u001b[A\n",
            "t:  72% 174/241 [00:06<00:02, 28.60it/s, now=None]\u001b[A\n",
            "t:  74% 178/241 [00:06<00:02, 28.95it/s, now=None]\u001b[A\n",
            "t:  76% 182/241 [00:06<00:02, 28.28it/s, now=None]\u001b[A\n",
            "t:  77% 185/241 [00:06<00:02, 24.67it/s, now=None]\u001b[A\n",
            "t:  78% 188/241 [00:07<00:02, 22.82it/s, now=None]\u001b[A\n",
            "t:  79% 191/241 [00:07<00:02, 21.91it/s, now=None]\u001b[A\n",
            "t:  80% 194/241 [00:07<00:02, 22.70it/s, now=None]\u001b[A\n",
            "t:  82% 197/241 [00:07<00:01, 23.28it/s, now=None]\u001b[A\n",
            "t:  83% 200/241 [00:07<00:01, 21.32it/s, now=None]\u001b[A\n",
            "t:  84% 203/241 [00:07<00:01, 19.56it/s, now=None]\u001b[A\n",
            "t:  85% 206/241 [00:08<00:01, 19.91it/s, now=None]\u001b[A\n",
            "t:  87% 210/241 [00:08<00:01, 22.07it/s, now=None]\u001b[A\n",
            "t:  88% 213/241 [00:08<00:01, 21.51it/s, now=None]\u001b[A\n",
            "t:  90% 216/241 [00:08<00:01, 20.91it/s, now=None]\u001b[A\n",
            "t:  91% 219/241 [00:08<00:01, 19.58it/s, now=None]\u001b[A\n",
            "t:  93% 223/241 [00:08<00:00, 20.12it/s, now=None]\u001b[A\n",
            "t:  94% 227/241 [00:09<00:00, 19.60it/s, now=None]\u001b[A\n",
            "t:  95% 229/241 [00:09<00:00, 18.87it/s, now=None]\u001b[A\n",
            "t:  96% 232/241 [00:09<00:00, 21.13it/s, now=None]\u001b[A\n",
            "t:  98% 235/241 [00:09<00:00, 19.46it/s, now=None]\u001b[A\n",
            "t:  99% 239/241 [00:09<00:00, 20.47it/s, now=None]\u001b[A\n",
            "Moviepy - Done !\n",
            "Moviepy - video ready video/ReDWeb_Sample_dolly-zoom-in.mp4\n",
            "Moviepy - Building video video/ReDWeb_Sample_zoom-in.mp4.\n",
            "Moviepy - Writing video video/ReDWeb_Sample_zoom-in.mp4\n",
            "\n",
            "  0% 0/1 [04:48<?, ?it/s]\n",
            "t:   0% 0/241 [00:00<?, ?it/s, now=None]\u001b[A\n",
            "t:   4% 10/241 [00:00<00:02, 94.97it/s, now=None]\u001b[A\n",
            "t:   9% 21/241 [00:00<00:02, 97.42it/s, now=None]\u001b[A\n",
            "t:  13% 32/241 [00:00<00:02, 99.98it/s, now=None]\u001b[A\n",
            "t:  18% 44/241 [00:00<00:01, 102.54it/s, now=None]\u001b[A\n",
            "t:  22% 53/241 [00:00<00:04, 41.93it/s, now=None] \u001b[A\n",
            "t:  25% 60/241 [00:01<00:05, 32.37it/s, now=None]\u001b[A\n",
            "t:  27% 65/241 [00:01<00:05, 30.11it/s, now=None]\u001b[A\n",
            "t:  29% 70/241 [00:01<00:06, 26.58it/s, now=None]\u001b[A\n",
            "t:  31% 74/241 [00:01<00:06, 24.53it/s, now=None]\u001b[A\n",
            "t:  32% 78/241 [00:02<00:07, 22.44it/s, now=None]\u001b[A\n",
            "t:  34% 81/241 [00:02<00:07, 21.17it/s, now=None]\u001b[A\n",
            "t:  35% 84/241 [00:02<00:07, 21.24it/s, now=None]\u001b[A\n",
            "t:  36% 87/241 [00:02<00:07, 20.69it/s, now=None]\u001b[A\n",
            "t:  37% 90/241 [00:02<00:07, 20.53it/s, now=None]\u001b[A\n",
            "t:  39% 93/241 [00:02<00:06, 21.20it/s, now=None]\u001b[A\n",
            "t:  40% 96/241 [00:02<00:06, 21.78it/s, now=None]\u001b[A\n",
            "t:  41% 99/241 [00:03<00:06, 20.39it/s, now=None]\u001b[A\n",
            "t:  42% 102/241 [00:03<00:06, 21.37it/s, now=None]\u001b[A\n",
            "t:  44% 105/241 [00:03<00:06, 21.43it/s, now=None]\u001b[A\n",
            "t:  45% 108/241 [00:03<00:06, 20.05it/s, now=None]\u001b[A\n",
            "t:  46% 111/241 [00:03<00:06, 19.12it/s, now=None]\u001b[A\n",
            "t:  48% 115/241 [00:03<00:06, 19.44it/s, now=None]\u001b[A\n",
            "t:  49% 118/241 [00:04<00:05, 20.81it/s, now=None]\u001b[A\n",
            "t:  50% 121/241 [00:04<00:05, 21.10it/s, now=None]\u001b[A\n",
            "t:  51% 124/241 [00:04<00:05, 19.94it/s, now=None]\u001b[A\n",
            "t:  53% 127/241 [00:04<00:05, 19.44it/s, now=None]\u001b[A\n",
            "t:  54% 130/241 [00:04<00:05, 21.16it/s, now=None]\u001b[A\n",
            "t:  55% 133/241 [00:04<00:05, 19.62it/s, now=None]\u001b[A\n",
            "t:  56% 136/241 [00:04<00:05, 19.78it/s, now=None]\u001b[A\n",
            "t:  58% 139/241 [00:05<00:05, 19.35it/s, now=None]\u001b[A\n",
            "t:  59% 142/241 [00:05<00:04, 21.01it/s, now=None]\u001b[A\n",
            "t:  60% 145/241 [00:05<00:04, 21.38it/s, now=None]\u001b[A\n",
            "t:  61% 148/241 [00:05<00:04, 19.96it/s, now=None]\u001b[A\n",
            "t:  63% 151/241 [00:05<00:04, 19.99it/s, now=None]\u001b[A\n",
            "t:  64% 154/241 [00:05<00:03, 21.97it/s, now=None]\u001b[A\n",
            "t:  65% 157/241 [00:05<00:03, 21.08it/s, now=None]\u001b[A\n",
            "t:  66% 160/241 [00:06<00:04, 19.35it/s, now=None]\u001b[A\n",
            "t:  68% 163/241 [00:06<00:04, 19.25it/s, now=None]\u001b[A\n",
            "t:  69% 167/241 [00:06<00:03, 18.93it/s, now=None]\u001b[A\n",
            "t:  71% 171/241 [00:06<00:03, 19.63it/s, now=None]\u001b[A\n",
            "t:  73% 175/241 [00:06<00:03, 20.02it/s, now=None]\u001b[A\n",
            "t:  74% 179/241 [00:07<00:03, 20.47it/s, now=None]\u001b[A\n",
            "t:  76% 182/241 [00:07<00:02, 20.74it/s, now=None]\u001b[A\n",
            "t:  77% 185/241 [00:07<00:02, 21.51it/s, now=None]\u001b[A\n",
            "t:  78% 188/241 [00:07<00:02, 20.53it/s, now=None]\u001b[A\n",
            "t:  79% 191/241 [00:07<00:02, 19.70it/s, now=None]\u001b[A\n",
            "t:  80% 194/241 [00:07<00:02, 19.90it/s, now=None]\u001b[A\n",
            "t:  82% 197/241 [00:07<00:02, 21.76it/s, now=None]\u001b[A\n",
            "t:  83% 200/241 [00:08<00:01, 20.62it/s, now=None]\u001b[A\n",
            "t:  84% 203/241 [00:08<00:02, 18.65it/s, now=None]\u001b[A\n",
            "t:  86% 207/241 [00:08<00:01, 19.20it/s, now=None]\u001b[A\n",
            "t:  88% 211/241 [00:08<00:01, 19.63it/s, now=None]\u001b[A\n",
            "t:  89% 214/241 [00:08<00:01, 19.67it/s, now=None]\u001b[A\n",
            "t:  90% 217/241 [00:08<00:01, 21.76it/s, now=None]\u001b[A\n",
            "t:  91% 220/241 [00:09<00:01, 20.74it/s, now=None]\u001b[A\n",
            "t:  93% 223/241 [00:09<00:00, 20.07it/s, now=None]\u001b[A\n",
            "t:  94% 227/241 [00:09<00:00, 20.18it/s, now=None]\u001b[A\n",
            "t:  95% 230/241 [00:09<00:00, 21.70it/s, now=None]\u001b[A\n",
            "t:  97% 233/241 [00:09<00:00, 22.19it/s, now=None]\u001b[A\n",
            "t:  98% 236/241 [00:09<00:00, 20.54it/s, now=None]\u001b[A\n",
            "t:  99% 239/241 [00:10<00:00, 19.63it/s, now=None]\u001b[A\n",
            "Moviepy - Done !\n",
            "Moviepy - video ready video/ReDWeb_Sample_zoom-in.mp4\n",
            "Moviepy - Building video video/ReDWeb_Sample_circle.mp4.\n",
            "Moviepy - Writing video video/ReDWeb_Sample_circle.mp4\n",
            "\n",
            "  0% 0/1 [05:39<?, ?it/s]\n",
            "t:   0% 0/241 [00:00<?, ?it/s, now=None]\u001b[A\n",
            "t:   4% 10/241 [00:00<00:02, 97.65it/s, now=None]\u001b[A\n",
            "t:   9% 22/241 [00:00<00:02, 102.87it/s, now=None]\u001b[A\n",
            "t:  13% 31/241 [00:00<00:02, 97.46it/s, now=None] \u001b[A\n",
            "t:  16% 38/241 [00:00<00:02, 84.71it/s, now=None]\u001b[A\n",
            "t:  20% 47/241 [00:00<00:02, 84.88it/s, now=None]\u001b[A\n",
            "t:  23% 55/241 [00:01<00:06, 29.50it/s, now=None]\u001b[A\n",
            "t:  25% 61/241 [00:01<00:06, 26.43it/s, now=None]\u001b[A\n",
            "t:  27% 66/241 [00:01<00:07, 24.35it/s, now=None]\u001b[A\n",
            "t:  29% 70/241 [00:01<00:08, 21.08it/s, now=None]\u001b[A\n",
            "t:  31% 74/241 [00:02<00:08, 20.14it/s, now=None]\u001b[A\n",
            "t:  32% 77/241 [00:02<00:08, 19.56it/s, now=None]\u001b[A\n",
            "t:  33% 80/241 [00:02<00:08, 17.89it/s, now=None]\u001b[A\n",
            "t:  34% 83/241 [00:02<00:09, 17.10it/s, now=None]\u001b[A\n",
            "t:  35% 85/241 [00:02<00:09, 16.31it/s, now=None]\u001b[A\n",
            "t:  37% 88/241 [00:03<00:08, 18.10it/s, now=None]\u001b[A\n",
            "t:  38% 91/241 [00:03<00:08, 18.62it/s, now=None]\u001b[A\n",
            "t:  39% 94/241 [00:03<00:07, 20.11it/s, now=None]\u001b[A\n",
            "t:  40% 97/241 [00:03<00:07, 19.28it/s, now=None]\u001b[A\n",
            "t:  41% 100/241 [00:03<00:07, 18.02it/s, now=None]\u001b[A\n",
            "t:  42% 102/241 [00:03<00:07, 18.21it/s, now=None]\u001b[A\n",
            "t:  43% 104/241 [00:03<00:07, 18.56it/s, now=None]\u001b[A\n",
            "t:  44% 106/241 [00:03<00:07, 18.81it/s, now=None]\u001b[A\n",
            "t:  45% 108/241 [00:04<00:07, 18.28it/s, now=None]\u001b[A\n",
            "t:  46% 110/241 [00:04<00:07, 18.63it/s, now=None]\u001b[A\n",
            "t:  46% 112/241 [00:04<00:07, 18.35it/s, now=None]\u001b[A\n",
            "t:  48% 115/241 [00:04<00:07, 17.40it/s, now=None]\u001b[A\n",
            "t:  49% 118/241 [00:04<00:06, 18.73it/s, now=None]\u001b[A\n",
            "t:  50% 120/241 [00:04<00:06, 18.50it/s, now=None]\u001b[A\n",
            "t:  51% 123/241 [00:04<00:06, 18.33it/s, now=None]\u001b[A\n",
            "t:  52% 126/241 [00:05<00:06, 19.05it/s, now=None]\u001b[A\n",
            "t:  53% 128/241 [00:05<00:06, 18.40it/s, now=None]\u001b[A\n",
            "t:  54% 130/241 [00:05<00:06, 18.08it/s, now=None]\u001b[A\n",
            "t:  55% 132/241 [00:05<00:05, 18.28it/s, now=None]\u001b[A\n",
            "t:  56% 134/241 [00:05<00:06, 17.45it/s, now=None]\u001b[A\n",
            "t:  56% 136/241 [00:05<00:05, 17.78it/s, now=None]\u001b[A\n",
            "t:  58% 139/241 [00:05<00:05, 17.42it/s, now=None]\u001b[A\n",
            "t:  59% 142/241 [00:05<00:05, 18.65it/s, now=None]\u001b[A\n",
            "t:  60% 144/241 [00:06<00:05, 18.31it/s, now=None]\u001b[A\n",
            "t:  61% 147/241 [00:06<00:05, 17.85it/s, now=None]\u001b[A\n",
            "t:  62% 150/241 [00:06<00:04, 19.62it/s, now=None]\u001b[A\n",
            "t:  63% 153/241 [00:06<00:04, 19.00it/s, now=None]\u001b[A\n",
            "t:  64% 155/241 [00:06<00:05, 16.67it/s, now=None]\u001b[A\n",
            "t:  66% 158/241 [00:06<00:04, 18.63it/s, now=None]\u001b[A\n",
            "t:  66% 160/241 [00:06<00:04, 18.48it/s, now=None]\u001b[A\n",
            "t:  68% 163/241 [00:07<00:04, 17.26it/s, now=None]\u001b[A\n",
            "t:  69% 166/241 [00:07<00:04, 18.43it/s, now=None]\u001b[A\n",
            "t:  70% 169/241 [00:07<00:03, 19.08it/s, now=None]\u001b[A\n",
            "t:  71% 171/241 [00:07<00:04, 17.24it/s, now=None]\u001b[A\n",
            "t:  72% 174/241 [00:07<00:03, 19.37it/s, now=None]\u001b[A\n",
            "t:  73% 177/241 [00:07<00:03, 19.79it/s, now=None]\u001b[A\n",
            "t:  75% 180/241 [00:07<00:03, 18.47it/s, now=None]\u001b[A\n",
            "t:  76% 182/241 [00:08<00:03, 17.94it/s, now=None]\u001b[A\n",
            "t:  77% 185/241 [00:08<00:02, 19.60it/s, now=None]\u001b[A\n",
            "t:  78% 188/241 [00:08<00:02, 18.81it/s, now=None]\u001b[A\n",
            "t:  79% 190/241 [00:08<00:02, 18.59it/s, now=None]\u001b[A\n",
            "t:  80% 192/241 [00:08<00:02, 17.37it/s, now=None]\u001b[A\n",
            "t:  81% 195/241 [00:08<00:02, 17.53it/s, now=None]\u001b[A\n",
            "t:  82% 198/241 [00:08<00:02, 19.87it/s, now=None]\u001b[A\n",
            "t:  83% 201/241 [00:09<00:02, 18.54it/s, now=None]\u001b[A\n",
            "t:  84% 203/241 [00:09<00:02, 17.44it/s, now=None]\u001b[A\n",
            "t:  85% 206/241 [00:09<00:01, 18.62it/s, now=None]\u001b[A\n",
            "t:  86% 208/241 [00:09<00:01, 17.45it/s, now=None]\u001b[A\n",
            "t:  88% 211/241 [00:09<00:01, 16.95it/s, now=None]\u001b[A\n",
            "t:  89% 214/241 [00:09<00:01, 17.59it/s, now=None]\u001b[A\n",
            "t:  90% 217/241 [00:09<00:01, 19.00it/s, now=None]\u001b[A\n",
            "t:  91% 219/241 [00:10<00:01, 16.50it/s, now=None]\u001b[A\n",
            "t:  92% 222/241 [00:10<00:01, 17.44it/s, now=None]\u001b[A\n",
            "t:  93% 224/241 [00:10<00:00, 17.26it/s, now=None]\u001b[A\n",
            "t:  94% 227/241 [00:10<00:00, 16.91it/s, now=None]\u001b[A\n",
            "t:  95% 230/241 [00:10<00:00, 19.34it/s, now=None]\u001b[A\n",
            "t:  97% 233/241 [00:10<00:00, 18.11it/s, now=None]\u001b[A\n",
            "t:  98% 235/241 [00:11<00:00, 15.82it/s, now=None]\u001b[A\n",
            "t:  99% 238/241 [00:11<00:00, 17.20it/s, now=None]\u001b[A\n",
            "t: 100% 240/241 [00:11<00:00, 16.85it/s, now=None]\u001b[A\n",
            "Moviepy - Done !\n",
            "Moviepy - video ready video/ReDWeb_Sample_circle.mp4\n",
            "Moviepy - Building video video/ReDWeb_Sample_swing.mp4.\n",
            "Moviepy - Writing video video/ReDWeb_Sample_swing.mp4\n",
            "\n",
            "  0% 0/1 [06:31<?, ?it/s]\n",
            "t:   0% 0/241 [00:00<?, ?it/s, now=None]\u001b[A\n",
            "t:   1% 3/241 [00:00<00:11, 21.54it/s, now=None]\u001b[A\n",
            "t:   5% 13/241 [00:00<00:08, 28.04it/s, now=None]\u001b[A\n",
            "t:  10% 25/241 [00:00<00:05, 36.30it/s, now=None]\u001b[A\n",
            "t:  15% 37/241 [00:00<00:04, 45.52it/s, now=None]\u001b[A\n",
            "t:  20% 47/241 [00:00<00:03, 53.41it/s, now=None]\u001b[A\n",
            "t:  23% 55/241 [00:01<00:06, 28.87it/s, now=None]\u001b[A\n",
            "t:  25% 61/241 [00:01<00:07, 24.46it/s, now=None]\u001b[A\n",
            "t:  27% 66/241 [00:01<00:07, 22.24it/s, now=None]\u001b[A\n",
            "t:  29% 70/241 [00:01<00:07, 22.72it/s, now=None]\u001b[A\n",
            "t:  31% 74/241 [00:02<00:07, 21.25it/s, now=None]\u001b[A\n",
            "t:  32% 77/241 [00:02<00:08, 18.64it/s, now=None]\u001b[A\n",
            "t:  33% 80/241 [00:02<00:08, 18.29it/s, now=None]\u001b[A\n",
            "t:  35% 84/241 [00:02<00:08, 18.61it/s, now=None]\u001b[A\n",
            "t:  37% 88/241 [00:02<00:08, 18.72it/s, now=None]\u001b[A\n",
            "t:  38% 92/241 [00:03<00:08, 18.60it/s, now=None]\u001b[A\n",
            "t:  40% 96/241 [00:03<00:07, 18.57it/s, now=None]\u001b[A\n",
            "t:  41% 99/241 [00:03<00:07, 19.49it/s, now=None]\u001b[A\n",
            "t:  42% 102/241 [00:03<00:06, 19.95it/s, now=None]\u001b[A\n",
            "t:  44% 105/241 [00:03<00:07, 18.15it/s, now=None]\u001b[A\n",
            "t:  45% 108/241 [00:04<00:07, 17.35it/s, now=None]\u001b[A\n",
            "t:  46% 110/241 [00:04<00:07, 17.53it/s, now=None]\u001b[A\n",
            "t:  47% 113/241 [00:04<00:07, 18.26it/s, now=None]\u001b[A\n",
            "t:  48% 116/241 [00:04<00:07, 17.26it/s, now=None]\u001b[A\n",
            "t:  50% 120/241 [00:04<00:06, 17.79it/s, now=None]\u001b[A\n",
            "t:  51% 124/241 [00:04<00:06, 18.12it/s, now=None]\u001b[A\n",
            "t:  53% 128/241 [00:05<00:06, 18.36it/s, now=None]\u001b[A\n",
            "t:  54% 131/241 [00:05<00:05, 19.73it/s, now=None]\u001b[A\n",
            "t:  56% 134/241 [00:05<00:05, 20.78it/s, now=None]\u001b[A\n",
            "t:  57% 137/241 [00:05<00:05, 18.61it/s, now=None]\u001b[A\n",
            "t:  58% 140/241 [00:05<00:05, 17.87it/s, now=None]\u001b[A\n",
            "t:  60% 144/241 [00:05<00:05, 18.19it/s, now=None]\u001b[A\n",
            "t:  61% 147/241 [00:06<00:04, 19.19it/s, now=None]\u001b[A\n",
            "t:  62% 149/241 [00:06<00:04, 18.79it/s, now=None]\u001b[A\n",
            "t:  63% 152/241 [00:06<00:04, 18.37it/s, now=None]\u001b[A\n",
            "t:  64% 155/241 [00:06<00:04, 19.67it/s, now=None]\u001b[A\n",
            "t:  66% 158/241 [00:06<00:03, 21.51it/s, now=None]\u001b[A\n",
            "t:  67% 161/241 [00:06<00:04, 19.91it/s, now=None]\u001b[A\n",
            "t:  68% 164/241 [00:06<00:03, 19.29it/s, now=None]\u001b[A\n",
            "t:  69% 167/241 [00:07<00:03, 21.39it/s, now=None]\u001b[A\n",
            "t:  71% 171/241 [00:07<00:03, 21.70it/s, now=None]\u001b[A\n",
            "t:  72% 174/241 [00:07<00:03, 22.19it/s, now=None]\u001b[A\n",
            "t:  73% 177/241 [00:07<00:02, 22.57it/s, now=None]\u001b[A\n",
            "t:  75% 180/241 [00:07<00:02, 21.53it/s, now=None]\u001b[A\n",
            "t:  76% 183/241 [00:07<00:02, 22.10it/s, now=None]\u001b[A\n",
            "t:  77% 186/241 [00:07<00:02, 21.35it/s, now=None]\u001b[A\n",
            "t:  78% 189/241 [00:08<00:02, 20.27it/s, now=None]\u001b[A\n",
            "t:  80% 192/241 [00:08<00:02, 19.33it/s, now=None]\u001b[A\n",
            "t:  80% 194/241 [00:08<00:02, 18.30it/s, now=None]\u001b[A\n",
            "t:  82% 197/241 [00:08<00:02, 20.15it/s, now=None]\u001b[A\n",
            "t:  83% 200/241 [00:08<00:02, 19.01it/s, now=None]\u001b[A\n",
            "t:  84% 203/241 [00:08<00:01, 19.48it/s, now=None]\u001b[A\n",
            "t:  85% 206/241 [00:08<00:01, 21.14it/s, now=None]\u001b[A\n",
            "t:  87% 209/241 [00:09<00:01, 18.85it/s, now=None]\u001b[A\n",
            "t:  88% 211/241 [00:09<00:01, 18.17it/s, now=None]\u001b[A\n",
            "t:  89% 214/241 [00:09<00:01, 18.81it/s, now=None]\u001b[A\n",
            "t:  90% 216/241 [00:09<00:01, 18.09it/s, now=None]\u001b[A\n",
            "t:  91% 220/241 [00:09<00:01, 18.54it/s, now=None]\u001b[A\n",
            "t:  93% 224/241 [00:09<00:00, 18.81it/s, now=None]\u001b[A\n",
            "t:  94% 226/241 [00:10<00:00, 18.30it/s, now=None]\u001b[A\n",
            "t:  95% 229/241 [00:10<00:00, 18.91it/s, now=None]\u001b[A\n",
            "t:  96% 232/241 [00:10<00:00, 18.58it/s, now=None]\u001b[A\n",
            "t:  98% 236/241 [00:10<00:00, 18.71it/s, now=None]\u001b[A\n",
            "t: 100% 240/241 [00:10<00:00, 18.75it/s, now=None]\u001b[A\n",
            "Moviepy - Done !\n",
            "Moviepy - video ready video/ReDWeb_Sample_swing.mp4\n",
            "100% 1/1 [06:44<00:00, 404.74s/it]\n"
          ],
          "name": "stdout"
        }
      ]
    }
  ]
}